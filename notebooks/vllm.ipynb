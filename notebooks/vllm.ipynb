{
 "cells": [
  {
   "cell_type": "code",
   "execution_count": 1,
   "id": "a3f9ef35",
   "metadata": {},
   "outputs": [
    {
     "name": "stderr",
     "output_type": "stream",
     "text": [
      "/home/j44zhu/anaconda3/envs/default/lib/python3.12/site-packages/tqdm/auto.py:21: TqdmWarning: IProgress not found. Please update jupyter and ipywidgets. See https://ipywidgets.readthedocs.io/en/stable/user_install.html\n",
      "  from .autonotebook import tqdm as notebook_tqdm\n"
     ]
    },
    {
     "name": "stdout",
     "output_type": "stream",
     "text": [
      "INFO 06-16 23:08:41 [__init__.py:244] Automatically detected platform cuda.\n"
     ]
    },
    {
     "name": "stderr",
     "output_type": "stream",
     "text": [
      "2025-06-16 23:08:45,176\tINFO util.py:154 -- Missing packages: ['ipywidgets']. Run `pip install -U ipywidgets`, then restart the notebook server for rich notebook output.\n"
     ]
    },
    {
     "name": "stdout",
     "output_type": "stream",
     "text": [
      "INFO 06-16 23:08:56 [config.py:823] This model supports multiple tasks: {'embed', 'classify', 'reward', 'generate', 'score'}. Defaulting to 'generate'.\n",
      "INFO 06-16 23:08:56 [config.py:2195] Chunked prefill is enabled with max_num_batched_tokens=8192.\n",
      "INFO 06-16 23:08:58 [core.py:455] Waiting for init message from front-end.\n",
      "INFO 06-16 23:08:58 [core.py:70] Initializing a V1 LLM engine (v0.9.1) with config: model='facebook/opt-125m', speculative_config=None, tokenizer='facebook/opt-125m', skip_tokenizer_init=False, tokenizer_mode=auto, revision=None, override_neuron_config={}, tokenizer_revision=None, trust_remote_code=False, dtype=torch.float16, max_seq_len=2048, download_dir=None, load_format=LoadFormat.AUTO, tensor_parallel_size=1, pipeline_parallel_size=1, disable_custom_all_reduce=False, quantization=None, enforce_eager=False, kv_cache_dtype=auto,  device_config=cuda, decoding_config=DecodingConfig(backend='auto', disable_fallback=False, disable_any_whitespace=False, disable_additional_properties=False, reasoning_backend=''), observability_config=ObservabilityConfig(show_hidden_metrics_for_version=None, otlp_traces_endpoint=None, collect_detailed_traces=None), seed=0, served_model_name=facebook/opt-125m, num_scheduler_steps=1, multi_step_stream_outputs=True, enable_prefix_caching=True, chunked_prefill_enabled=True, use_async_output_proc=True, pooler_config=None, compilation_config={\"level\":3,\"debug_dump_path\":\"\",\"cache_dir\":\"\",\"backend\":\"\",\"custom_ops\":[\"none\"],\"splitting_ops\":[\"vllm.unified_attention\",\"vllm.unified_attention_with_output\"],\"use_inductor\":true,\"compile_sizes\":[],\"inductor_compile_config\":{\"enable_auto_functionalized_v2\":false},\"inductor_passes\":{},\"use_cudagraph\":true,\"cudagraph_num_of_warmups\":1,\"cudagraph_capture_sizes\":[512,504,496,488,480,472,464,456,448,440,432,424,416,408,400,392,384,376,368,360,352,344,336,328,320,312,304,296,288,280,272,264,256,248,240,232,224,216,208,200,192,184,176,168,160,152,144,136,128,120,112,104,96,88,80,72,64,56,48,40,32,24,16,8,4,2,1],\"cudagraph_copy_inputs\":false,\"full_cuda_graph\":false,\"max_capture_size\":512,\"local_cache_dir\":null}\n",
      "WARNING 06-16 23:09:00 [utils.py:2737] Methods determine_num_available_blocks,device_config,get_cache_block_size_bytes,initialize_cache not implemented in <vllm.v1.worker.gpu_worker.Worker object at 0x7fead1772de0>\n",
      "INFO 06-16 23:09:01 [parallel_state.py:1065] rank 0 in world size 1 is assigned as DP rank 0, PP rank 0, TP rank 0, EP rank 0\n",
      "WARNING 06-16 23:09:01 [topk_topp_sampler.py:59] FlashInfer is not available. Falling back to the PyTorch-native implementation of top-p & top-k sampling. For the best performance, please install FlashInfer.\n",
      "INFO 06-16 23:09:01 [gpu_model_runner.py:1595] Starting to load model facebook/opt-125m...\n",
      "INFO 06-16 23:09:01 [gpu_model_runner.py:1600] Loading model from scratch...\n",
      "INFO 06-16 23:09:01 [cuda.py:252] Using Flash Attention backend on V1 engine.\n",
      "INFO 06-16 23:09:02 [weight_utils.py:292] Using model weights format ['*.bin']\n",
      "INFO 06-16 23:09:05 [weight_utils.py:308] Time spent downloading weights for facebook/opt-125m: 3.034388 seconds\n"
     ]
    },
    {
     "name": "stderr",
     "output_type": "stream",
     "text": [
      "Loading pt checkpoint shards:   0% Completed | 0/1 [00:00<?, ?it/s]\n",
      "Loading pt checkpoint shards: 100% Completed | 1/1 [00:00<00:00,  2.56it/s]\n",
      "Loading pt checkpoint shards: 100% Completed | 1/1 [00:00<00:00,  2.55it/s]\n",
      "\n"
     ]
    },
    {
     "name": "stdout",
     "output_type": "stream",
     "text": [
      "INFO 06-16 23:09:05 [default_loader.py:272] Loading weights took 0.43 seconds\n",
      "INFO 06-16 23:09:06 [gpu_model_runner.py:1624] Model loading took 0.2389 GiB and 3.693791 seconds\n",
      "INFO 06-16 23:09:10 [backends.py:462] Using cache directory: /home/j44zhu/.cache/vllm/torch_compile_cache/de10bd737c/rank_0_0 for vLLM's torch.compile\n",
      "INFO 06-16 23:09:10 [backends.py:472] Dynamo bytecode transform time: 3.72 s\n",
      "INFO 06-16 23:09:12 [backends.py:161] Cache the graph of shape None for later use\n",
      "INFO 06-16 23:09:18 [backends.py:173] Compiling a graph for general shape takes 8.16 s\n",
      "INFO 06-16 23:09:20 [monitor.py:34] torch.compile takes 11.88 s in total\n",
      "INFO 06-16 23:09:21 [gpu_worker.py:227] Available KV cache memory: 70.44 GiB\n",
      "INFO 06-16 23:09:22 [kv_cache_utils.py:715] GPU KV cache size: 2,051,664 tokens\n",
      "INFO 06-16 23:09:22 [kv_cache_utils.py:719] Maximum concurrency for 2,048 tokens per request: 1001.79x\n",
      "INFO 06-16 23:09:40 [gpu_model_runner.py:2048] Graph capturing finished in 18 secs, took 0.53 GiB\n",
      "INFO 06-16 23:09:40 [core.py:171] init engine (profile, create kv cache, warmup model) took 34.16 seconds\n"
     ]
    },
    {
     "name": "stderr",
     "output_type": "stream",
     "text": [
      "Adding requests: 100%|██████████| 4/4 [00:00<00:00, 580.73it/s]\n",
      "Processed prompts: 100%|██████████| 4/4 [00:00<00:00, 34.73it/s, est. speed input: 225.94 toks/s, output: 556.11 toks/s]\n"
     ]
    },
    {
     "name": "stdout",
     "output_type": "stream",
     "text": [
      "\n",
      "Generated Outputs:\n",
      "------------------------------------------------------------\n",
      "Prompt:    'Hello, my name is'\n",
      "Output:    ' Joel, my dad is my friend and we are in a relationship. I am'\n",
      "------------------------------------------------------------\n",
      "Prompt:    'The president of the United States is'\n",
      "Output:    ' reportedly being investigated by the FBI over the allegations that he broke campaign finance laws in'\n",
      "------------------------------------------------------------\n",
      "Prompt:    'The capital of France is'\n",
      "Output:    ' all set to open a new gateway to the most notorious terror camps in Europe,'\n",
      "------------------------------------------------------------\n",
      "Prompt:    'The future of AI is'\n",
      "Output:    ' in their hands. We cannot prevent the future.\\nAgreed.  '\n",
      "------------------------------------------------------------\n"
     ]
    }
   ],
   "source": [
    "# SPDX-License-Identifier: Apache-2.0\n",
    "# SPDX-FileCopyrightText: Copyright contributors to the vLLM project\n",
    "\n",
    "from vllm import LLM, SamplingParams\n",
    "\n",
    "# Sample prompts.\n",
    "prompts = [\n",
    "    \"Hello, my name is\",\n",
    "    \"The president of the United States is\",\n",
    "    \"The capital of France is\",\n",
    "    \"The future of AI is\",\n",
    "]\n",
    "# Create a sampling params object.\n",
    "sampling_params = SamplingParams(temperature=0.8, top_p=0.95)\n",
    "\n",
    "\n",
    "def main():\n",
    "    # Create an LLM.\n",
    "    llm = LLM(model=\"facebook/opt-125m\")\n",
    "    # Generate texts from the prompts.\n",
    "    # The output is a list of RequestOutput objects\n",
    "    # that contain the prompt, generated text, and other information.\n",
    "    outputs = llm.generate(prompts, sampling_params)\n",
    "    # Print the outputs.\n",
    "    print(\"\\nGenerated Outputs:\\n\" + \"-\" * 60)\n",
    "    for output in outputs:\n",
    "        prompt = output.prompt\n",
    "        generated_text = output.outputs[0].text\n",
    "        print(f\"Prompt:    {prompt!r}\")\n",
    "        print(f\"Output:    {generated_text!r}\")\n",
    "        print(\"-\" * 60)\n",
    "\n",
    "\n",
    "if __name__ == \"__main__\":\n",
    "    main()"
   ]
  },
  {
   "cell_type": "code",
   "execution_count": null,
   "id": "a761d133",
   "metadata": {},
   "outputs": [],
   "source": [
    "# SPDX-License-Identifier: Apache-2.0\n",
    "# SPDX-FileCopyrightText: Copyright contributors to the vLLM project\n",
    "\n",
    "from vllm import LLM, EngineArgs\n",
    "from vllm.utils import FlexibleArgumentParser\n",
    "\n",
    "\n",
    "def create_parser():\n",
    "    parser = FlexibleArgumentParser()\n",
    "    # Add engine args\n",
    "    EngineArgs.add_cli_args(parser)\n",
    "    parser.set_defaults(model=\"meta-llama/Llama-3.2-1B-Instruct\")\n",
    "    # Add sampling params\n",
    "    sampling_group = parser.add_argument_group(\"Sampling parameters\")\n",
    "    sampling_group.add_argument(\"--max-tokens\", type=int)\n",
    "    sampling_group.add_argument(\"--temperature\", type=float)\n",
    "    sampling_group.add_argument(\"--top-p\", type=float)\n",
    "    sampling_group.add_argument(\"--top-k\", type=int)\n",
    "\n",
    "    return parser\n",
    "\n",
    "\n",
    "def main(args: dict):\n",
    "    # Pop arguments not used by LLM\n",
    "    max_tokens = args.pop(\"max_tokens\")\n",
    "    temperature = args.pop(\"temperature\")\n",
    "    top_p = args.pop(\"top_p\")\n",
    "    top_k = args.pop(\"top_k\")\n",
    "\n",
    "    # Create an LLM\n",
    "    llm = LLM(**args)\n",
    "\n",
    "    # Create a sampling params object\n",
    "    sampling_params = llm.get_default_sampling_params()\n",
    "    if max_tokens is not None:\n",
    "        sampling_params.max_tokens = max_tokens\n",
    "    if temperature is not None:\n",
    "        sampling_params.temperature = temperature\n",
    "    if top_p is not None:\n",
    "        sampling_params.top_p = top_p\n",
    "    if top_k is not None:\n",
    "        sampling_params.top_k = top_k\n",
    "\n",
    "    # Generate texts from the prompts. The output is a list of RequestOutput\n",
    "    # objects that contain the prompt, generated text, and other information.\n",
    "    prompts = [\n",
    "        \"Hello, my name is\",\n",
    "        \"The president of the United States is\",\n",
    "        \"The capital of France is\",\n",
    "        \"The future of AI is\",\n",
    "    ]\n",
    "    outputs = llm.generate(prompts, sampling_params)\n",
    "    # Print the outputs.\n",
    "    print(\"-\" * 50)\n",
    "    for output in outputs:\n",
    "        prompt = output.prompt\n",
    "        generated_text = output.outputs[0].text\n",
    "        print(f\"Prompt: {prompt!r}\\nGenerated text: {generated_text!r}\")\n",
    "        print(\"-\" * 50)\n",
    "\n",
    "\n",
    "if __name__ == \"__main__\":\n",
    "    parser = create_parser()\n",
    "    args: dict = vars(parser.parse_args())\n",
    "    main(args)"
   ]
  }
 ],
 "metadata": {
  "kernelspec": {
   "display_name": "default",
   "language": "python",
   "name": "python3"
  },
  "language_info": {
   "codemirror_mode": {
    "name": "ipython",
    "version": 3
   },
   "file_extension": ".py",
   "mimetype": "text/x-python",
   "name": "python",
   "nbconvert_exporter": "python",
   "pygments_lexer": "ipython3",
   "version": "3.12.0"
  }
 },
 "nbformat": 4,
 "nbformat_minor": 5
}
